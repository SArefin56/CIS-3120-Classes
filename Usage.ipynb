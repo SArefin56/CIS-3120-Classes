{
 "cells": [
  {
   "cell_type": "code",
   "execution_count": 1,
   "id": "6b88b4bc-a5c4-436d-9eed-8e95600f6d53",
   "metadata": {
    "editable": true,
    "slideshow": {
     "slide_type": ""
    },
    "tags": []
   },
   "outputs": [],
   "source": [
    "from Animal import Animal"
   ]
  },
  {
   "cell_type": "code",
   "execution_count": 2,
   "id": "738a52e3-faf1-4f92-8835-fed5b5e36dfe",
   "metadata": {
    "editable": true,
    "slideshow": {
     "slide_type": ""
    },
    "tags": []
   },
   "outputs": [
    {
     "name": "stdout",
     "output_type": "stream",
     "text": [
      "This is an Elephant\n"
     ]
    }
   ],
   "source": [
    "x = Animal(\"Elephant\", \"spring water\", \"trunk\", \"6000 kg\", \"tropical regions\", \"3-7 hours\")\n",
    "x.Animal_name()"
   ]
  },
  {
   "cell_type": "code",
   "execution_count": 3,
   "id": "713c2e81-4b22-48c4-8485-649f75aca39c",
   "metadata": {},
   "outputs": [
    {
     "name": "stdout",
     "output_type": "stream",
     "text": [
      "An Elephant usually drinks spring water\n"
     ]
    }
   ],
   "source": [
    "x.Animal_drink()"
   ]
  },
  {
   "cell_type": "code",
   "execution_count": 4,
   "id": "6b798a74-8ac1-4ee7-b81f-cd630fc18736",
   "metadata": {},
   "outputs": [
    {
     "name": "stdout",
     "output_type": "stream",
     "text": [
      "An Elephant can eat leaves by reaching out through its trunk\n"
     ]
    }
   ],
   "source": [
    "x.Animal_capability()"
   ]
  },
  {
   "cell_type": "code",
   "execution_count": 5,
   "id": "00fc6e90-e4e1-40a1-814c-7d8fbf69a6fc",
   "metadata": {},
   "outputs": [
    {
     "name": "stdout",
     "output_type": "stream",
     "text": [
      "An Elephant can lift weights of up to 6000 kg\n"
     ]
    }
   ],
   "source": [
    "x.Animal_lift()"
   ]
  },
  {
   "cell_type": "code",
   "execution_count": 6,
   "id": "b07113ab-861d-49ff-82df-bbb300ce14af",
   "metadata": {},
   "outputs": [
    {
     "name": "stdout",
     "output_type": "stream",
     "text": [
      "An Elephant primarily inhabits tropical regions\n"
     ]
    }
   ],
   "source": [
    "x.Animal_inhabit()"
   ]
  },
  {
   "cell_type": "code",
   "execution_count": 7,
   "id": "5200fac4-5898-4e4b-8ed2-4ede1b386153",
   "metadata": {},
   "outputs": [
    {
     "name": "stdout",
     "output_type": "stream",
     "text": [
      "An adult Elephant sleeps up to 3-7 hours per day\n"
     ]
    }
   ],
   "source": [
    "x.Animal_sleep()"
   ]
  }
 ],
 "metadata": {
  "kernelspec": {
   "display_name": "Python [conda env:base] *",
   "language": "python",
   "name": "conda-base-py"
  },
  "language_info": {
   "codemirror_mode": {
    "name": "ipython",
    "version": 3
   },
   "file_extension": ".py",
   "mimetype": "text/x-python",
   "name": "python",
   "nbconvert_exporter": "python",
   "pygments_lexer": "ipython3",
   "version": "3.12.7"
  }
 },
 "nbformat": 4,
 "nbformat_minor": 5
}
